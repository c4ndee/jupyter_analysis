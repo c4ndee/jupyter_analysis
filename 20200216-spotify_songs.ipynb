{
 "cells": [
  {
   "cell_type": "code",
   "execution_count": 1,
   "metadata": {},
   "outputs": [],
   "source": [
    "import pandas as pd\n",
    "import numpy as np\n",
    "import seaborn as sns\n",
    "import matplotlib.pyplot as plt"
   ]
  },
  {
   "cell_type": "code",
   "execution_count": 3,
   "metadata": {},
   "outputs": [],
   "source": [
    "df = pd.read_csv(\"https://raw.githubusercontent.com/rfordatascience/tidytuesday/master/data/2020/2020-01-21/spotify_songs.csv\",\n",
    "             sep=\",\", error_bad_lines=False, index_col=False, dtype='unicode')"
   ]
  },
  {
   "cell_type": "code",
   "execution_count": 8,
   "metadata": {},
   "outputs": [
    {
     "data": {
      "text/html": [
       "<div>\n",
       "<style scoped>\n",
       "    .dataframe tbody tr th:only-of-type {\n",
       "        vertical-align: middle;\n",
       "    }\n",
       "\n",
       "    .dataframe tbody tr th {\n",
       "        vertical-align: top;\n",
       "    }\n",
       "\n",
       "    .dataframe thead th {\n",
       "        text-align: right;\n",
       "    }\n",
       "</style>\n",
       "<table border=\"1\" class=\"dataframe\">\n",
       "  <thead>\n",
       "    <tr style=\"text-align: right;\">\n",
       "      <th></th>\n",
       "      <th>track_id</th>\n",
       "      <th>track_name</th>\n",
       "      <th>track_artist</th>\n",
       "      <th>track_popularity</th>\n",
       "      <th>track_album_id</th>\n",
       "      <th>track_album_name</th>\n",
       "      <th>track_album_release_date</th>\n",
       "      <th>playlist_name</th>\n",
       "      <th>playlist_id</th>\n",
       "      <th>playlist_genre</th>\n",
       "      <th>...</th>\n",
       "      <th>key</th>\n",
       "      <th>loudness</th>\n",
       "      <th>mode</th>\n",
       "      <th>speechiness</th>\n",
       "      <th>acousticness</th>\n",
       "      <th>instrumentalness</th>\n",
       "      <th>liveness</th>\n",
       "      <th>valence</th>\n",
       "      <th>tempo</th>\n",
       "      <th>duration_ms</th>\n",
       "    </tr>\n",
       "  </thead>\n",
       "  <tbody>\n",
       "    <tr>\n",
       "      <th>1764</th>\n",
       "      <td>6e40mgJiCid5HRAGrbpGA6</td>\n",
       "      <td>I Want It That Way</td>\n",
       "      <td>Backstreet Boys</td>\n",
       "      <td>76</td>\n",
       "      <td>1NslKOZobWxINFaFkLol3r</td>\n",
       "      <td>The Hits--Chapter One</td>\n",
       "      <td>2001-10-23</td>\n",
       "      <td>Post pop teen</td>\n",
       "      <td>222nc9tKxKhfZ2GBrOpwH3</td>\n",
       "      <td>pop</td>\n",
       "      <td>...</td>\n",
       "      <td>6</td>\n",
       "      <td>-5.642</td>\n",
       "      <td>0</td>\n",
       "      <td>0.0261</td>\n",
       "      <td>0.216</td>\n",
       "      <td>0</td>\n",
       "      <td>0.159</td>\n",
       "      <td>0.484</td>\n",
       "      <td>99.031</td>\n",
       "      <td>213600</td>\n",
       "    </tr>\n",
       "    <tr>\n",
       "      <th>2654</th>\n",
       "      <td>2rZfKyWzXoxQe2DBlvZ2sP</td>\n",
       "      <td>No Place</td>\n",
       "      <td>Backstreet Boys</td>\n",
       "      <td>59</td>\n",
       "      <td>2f4X9NdtXsuviPawMTYm1D</td>\n",
       "      <td>No Place</td>\n",
       "      <td>2019-01-04</td>\n",
       "      <td>Electropop 2019</td>\n",
       "      <td>4Bi8VLtaSu0JILliif8lH6</td>\n",
       "      <td>pop</td>\n",
       "      <td>...</td>\n",
       "      <td>3</td>\n",
       "      <td>-5.439</td>\n",
       "      <td>1</td>\n",
       "      <td>0.0283</td>\n",
       "      <td>0.147</td>\n",
       "      <td>0</td>\n",
       "      <td>0.0913</td>\n",
       "      <td>0.502</td>\n",
       "      <td>91.995</td>\n",
       "      <td>179747</td>\n",
       "    </tr>\n",
       "  </tbody>\n",
       "</table>\n",
       "<p>2 rows × 23 columns</p>\n",
       "</div>"
      ],
      "text/plain": [
       "                    track_id          track_name     track_artist  \\\n",
       "1764  6e40mgJiCid5HRAGrbpGA6  I Want It That Way  Backstreet Boys   \n",
       "2654  2rZfKyWzXoxQe2DBlvZ2sP            No Place  Backstreet Boys   \n",
       "\n",
       "     track_popularity          track_album_id       track_album_name  \\\n",
       "1764               76  1NslKOZobWxINFaFkLol3r  The Hits--Chapter One   \n",
       "2654               59  2f4X9NdtXsuviPawMTYm1D               No Place   \n",
       "\n",
       "     track_album_release_date    playlist_name             playlist_id  \\\n",
       "1764               2001-10-23    Post pop teen  222nc9tKxKhfZ2GBrOpwH3   \n",
       "2654               2019-01-04  Electropop 2019  4Bi8VLtaSu0JILliif8lH6   \n",
       "\n",
       "     playlist_genre  ... key loudness mode speechiness acousticness  \\\n",
       "1764            pop  ...   6   -5.642    0      0.0261        0.216   \n",
       "2654            pop  ...   3   -5.439    1      0.0283        0.147   \n",
       "\n",
       "     instrumentalness liveness valence   tempo duration_ms  \n",
       "1764                0    0.159   0.484  99.031      213600  \n",
       "2654                0   0.0913   0.502  91.995      179747  \n",
       "\n",
       "[2 rows x 23 columns]"
      ]
     },
     "execution_count": 8,
     "metadata": {},
     "output_type": "execute_result"
    }
   ],
   "source": [
    "df[df.track_artist=='Backstreet Boys']"
   ]
  },
  {
   "cell_type": "code",
   "execution_count": 10,
   "metadata": {},
   "outputs": [
    {
     "data": {
      "text/plain": [
       "track_id                    object\n",
       "track_name                  object\n",
       "track_artist                object\n",
       "track_popularity            object\n",
       "track_album_id              object\n",
       "track_album_name            object\n",
       "track_album_release_date    object\n",
       "playlist_name               object\n",
       "playlist_id                 object\n",
       "playlist_genre              object\n",
       "playlist_subgenre           object\n",
       "danceability                object\n",
       "energy                      object\n",
       "key                         object\n",
       "loudness                    object\n",
       "mode                        object\n",
       "speechiness                 object\n",
       "acousticness                object\n",
       "instrumentalness            object\n",
       "liveness                    object\n",
       "valence                     object\n",
       "tempo                       object\n",
       "duration_ms                 object\n",
       "dtype: object"
      ]
     },
     "execution_count": 10,
     "metadata": {},
     "output_type": "execute_result"
    }
   ],
   "source": [
    "df.dtypes"
   ]
  },
  {
   "cell_type": "code",
   "execution_count": null,
   "metadata": {},
   "outputs": [],
   "source": []
  }
 ],
 "metadata": {
  "kernelspec": {
   "display_name": "Python 3",
   "language": "python",
   "name": "python3"
  },
  "language_info": {
   "codemirror_mode": {
    "name": "ipython",
    "version": 3
   },
   "file_extension": ".py",
   "mimetype": "text/x-python",
   "name": "python",
   "nbconvert_exporter": "python",
   "pygments_lexer": "ipython3",
   "version": "3.7.5"
  }
 },
 "nbformat": 4,
 "nbformat_minor": 2
}
